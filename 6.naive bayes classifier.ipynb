{
 "cells": [
  {
   "cell_type": "code",
   "execution_count": 1,
   "metadata": {},
   "outputs": [
    {
     "name": "stdout",
     "output_type": "stream",
     "text": [
      "Total instances in the dataset: 18\n",
      "\n",
      "Dataset is split into Training and Testing samples\n",
      "Total training instances : 13\n",
      "Total testing instances : 5\n",
      "\n",
      "Total features extracted using CountVectorizer: 46\n",
      "\n",
      "The words or Tokens in the text documents\n",
      "\n",
      "['am', 'amazing', 'an', 'and', 'bad', 'best', 'can', 'dance', 'deal', 'do', 'enemy', 'fun', 'good', 'great', 'have', 'he', 'holiday', 'house', 'is', 'juice', 'like', 'locality', 'love', 'my', 'not', 'of', 'place', 'restaurant', 'sick', 'stay', 'stuff', 'sworn', 'taste', 'that', 'the', 'this', 'tired', 'to', 'today', 'tomorrow', 'we', 'went', 'what', 'will', 'with', 'work']\n",
      "\n",
      "Accuracy metrics\n",
      "==================\n",
      "Accuracy of the classifer is 1.0\n",
      "Recall : 1.0 \n",
      "Precison : 1.0\n",
      "Confusion matrix\n",
      "==================\n",
      "[[1 0]\n",
      " [0 4]]\n"
     ]
    }
   ],
   "source": [
    "import pandas as pd \n",
    "data=pd.read_csv('data6.csv',names=['message','label']) #Tabular form data \n",
    "print('Total instances in the dataset:',data.shape[0])\n",
    "\n",
    "data['labelnum']=data.label.map({'pos':1,'neg':0}) \n",
    "#print(msg)\n",
    "X=data.message\n",
    "Y=data.labelnum\n",
    "\n",
    "#print(X)\n",
    "#print(Y)\n",
    "\n",
    "\n",
    "# Splitting the dataset into train and test data\n",
    "from sklearn.model_selection import train_test_split \n",
    "xtrain,xtest,ytrain,ytest=train_test_split(X,Y) \n",
    "\n",
    "print('\\nDataset is split into Training and Testing samples') \n",
    "print('Total training instances :', ytrain.shape[0]) \n",
    "print('Total testing instances :', ytest.shape[0])\n",
    "\n",
    "# Output of count vectoriser is a sparse matrix\n",
    "# CountVectorizer - stands for 'feature extraction'\n",
    "from sklearn.feature_extraction.text import CountVectorizer \n",
    "count_vect = CountVectorizer()\n",
    "xtrain_dtm = count_vect.fit_transform(xtrain) #Sparse matrix \n",
    "xtest_dtm = count_vect.transform(xtest)\n",
    "print('\\nTotal features extracted using CountVectorizer:',xtrain_dtm.shape[1])\n",
    "\n",
    "print('\\nThe words or Tokens in the text documents\\n') \n",
    "print(count_vect.get_feature_names())\n",
    "\n",
    "\n",
    "# Training Naive Bayes (NB) classifier on training data. \n",
    "from sklearn.naive_bayes import MultinomialNB\n",
    "clf = MultinomialNB().fit(xtrain_dtm,ytrain) \n",
    "predicted = clf.predict(xtest_dtm)\n",
    "\n",
    "#printing accuracy metrics \n",
    "from sklearn import metrics \n",
    "print('\\nAccuracy metrics')\n",
    "print('==================')\n",
    "print('Accuracy of the classifer is',metrics.accuracy_score(ytest,predicted))\n",
    "\n",
    "print('Recall :',metrics.recall_score(ytest,predicted), '\\nPrecison :',metrics.precision_score(ytest,predicted))\n",
    "print('Confusion matrix')\n",
    "print('==================')\n",
    "print(metrics.confusion_matrix(ytest,predicted))\n",
    "\n"
   ]
  }
 ],
 "metadata": {
  "kernelspec": {
   "display_name": "Python 3",
   "language": "python",
   "name": "python3"
  },
  "language_info": {
   "codemirror_mode": {
    "name": "ipython",
    "version": 3
   },
   "file_extension": ".py",
   "mimetype": "text/x-python",
   "name": "python",
   "nbconvert_exporter": "python",
   "pygments_lexer": "ipython3",
   "version": "3.8.8"
  }
 },
 "nbformat": 4,
 "nbformat_minor": 4
}
